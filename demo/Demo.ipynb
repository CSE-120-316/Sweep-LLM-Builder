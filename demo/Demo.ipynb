{
 "cells": [
  {
   "cell_type": "markdown",
   "metadata": {},
   "source": [
    "# Chat Cats ChatBot Fine Tuner Demo\n",
    "\n",
    "## Introduction\n",
    "\n",
    "Our finetuner is a server-hosted application that allows you to fine-tune a pre-trained version of Llama2. To create and finetune these LLMs (Large Languages Models) using our applicaiton, send http requests to http://vm.sweep-ai.com:6360/"
   ]
  },
  {
   "cell_type": "code",
   "execution_count": 17,
   "metadata": {},
   "outputs": [],
   "source": [
    "import requests\n",
    "host = \"http://vm.sweep-ai.com:6360/\""
   ]
  },
  {
   "cell_type": "markdown",
   "metadata": {},
   "source": [
    "## Creating a Chatbot\n",
    "\n",
    "To begin, we send a post request to the server specifying the model we want to create.\n",
    "\n",
    "Let's create a chatbot that outputs the sentiments of tweets. We'll call it \"sentiment_bot\" and we'll give it a learning rate of \"2e-4\""
   ]
  },
  {
   "cell_type": "code",
   "execution_count": 18,
   "metadata": {},
   "outputs": [
    {
     "name": "stdout",
     "output_type": "stream",
     "text": [
      "{\"ChatBot\":{\"lr\":\"2e-4\",\"name\":\"sentiment_bot\",\"status\":\"Untrained\"},\"message\":\"creation success\"}\n",
      "\n"
     ]
    }
   ],
   "source": [
    "bot_name = \"sentiment_bot\"\n",
    "data = {\"name\": bot_name, \"lr\": \"2e-4\"}\n",
    "route = \"createChatBot\"\n",
    "response = requests.post(host + route, data)\n",
    "print(response.text)"
   ]
  },
  {
   "cell_type": "markdown",
   "metadata": {},
   "source": [
    "### Check Status of the bot"
   ]
  },
  {
   "cell_type": "code",
   "execution_count": 19,
   "metadata": {},
   "outputs": [
    {
     "name": "stdout",
     "output_type": "stream",
     "text": [
      "{\"lr\":\"2e-4\",\"name\":\"sentiment_bot\",\"status\":\"Untrained\"}\n",
      "\n"
     ]
    }
   ],
   "source": [
    "data = {\"name\": bot_name}\n",
    "route = \"checkStatus\"\n",
    "response = requests.get(host + route, data)\n",
    "print(response.text)"
   ]
  },
  {
   "cell_type": "markdown",
   "metadata": {},
   "source": [
    "## Sending in the Dataset\n",
    "\n",
    "Next, we send in the dataset we want to use to train the model. We'll use the \"financefake.json\" dataset.\n",
    "\n",
    "It needs to be submitted line by line."
   ]
  },
  {
   "cell_type": "code",
   "execution_count": 20,
   "metadata": {},
   "outputs": [
    {
     "name": "stdout",
     "output_type": "stream",
     "text": [
      "{\"dataSet\":\"data_name\",\"message\":null}\n",
      "\n",
      "{\"dataSet\":\"data_name\",\"message\":null}\n",
      "\n",
      "{\"dataSet\":\"data_name\",\"message\":null}\n",
      "\n",
      "{\"dataSet\":\"data_name\",\"message\":null}\n",
      "\n",
      "{\"dataSet\":\"data_name\",\"message\":null}\n",
      "\n",
      "{\"dataSet\":\"data_name\",\"message\":null}\n",
      "\n",
      "{\"dataSet\":\"data_name\",\"message\":null}\n",
      "\n",
      "{\"dataSet\":\"data_name\",\"message\":null}\n",
      "\n",
      "{\"dataSet\":\"data_name\",\"message\":null}\n",
      "\n",
      "{\"dataSet\":\"data_name\",\"message\":null}\n",
      "\n",
      "{\"dataSet\":\"data_name\",\"message\":null}\n",
      "\n",
      "{\"dataSet\":\"data_name\",\"message\":null}\n",
      "\n",
      "{\"dataSet\":\"data_name\",\"message\":null}\n",
      "\n",
      "{\"dataSet\":\"data_name\",\"message\":null}\n",
      "\n",
      "{\"dataSet\":\"data_name\",\"message\":null}\n",
      "\n",
      "{\"dataSet\":\"data_name\",\"message\":null}\n",
      "\n",
      "{\"dataSet\":\"data_name\",\"message\":null}\n",
      "\n",
      "{\"dataSet\":\"data_name\",\"message\":null}\n",
      "\n",
      "{\"dataSet\":\"data_name\",\"message\":null}\n",
      "\n",
      "{\"dataSet\":\"data_name\",\"message\":null}\n",
      "\n",
      "{\"dataSet\":\"data_name\",\"message\":null}\n",
      "\n",
      "{\"dataSet\":\"data_name\",\"message\":null}\n",
      "\n",
      "{\"dataSet\":\"data_name\",\"message\":null}\n",
      "\n",
      "{\"dataSet\":\"data_name\",\"message\":null}\n",
      "\n",
      "{\"dataSet\":\"data_name\",\"message\":null}\n",
      "\n",
      "{\"dataSet\":\"data_name\",\"message\":null}\n",
      "\n",
      "{\"dataSet\":\"data_name\",\"message\":null}\n",
      "\n",
      "{\"dataSet\":\"data_name\",\"message\":null}\n",
      "\n",
      "{\"dataSet\":\"data_name\",\"message\":null}\n",
      "\n",
      "{\"dataSet\":\"data_name\",\"message\":null}\n",
      "\n",
      "{\"dataSet\":\"data_name\",\"message\":null}\n",
      "\n",
      "{\"dataSet\":\"data_name\",\"message\":null}\n",
      "\n",
      "{\"dataSet\":\"data_name\",\"message\":null}\n",
      "\n",
      "{\"dataSet\":\"data_name\",\"message\":null}\n",
      "\n",
      "{\"dataSet\":\"data_name\",\"message\":null}\n",
      "\n",
      "{\"dataSet\":\"data_name\",\"message\":null}\n",
      "\n",
      "{\"dataSet\":\"data_name\",\"message\":null}\n",
      "\n",
      "{\"dataSet\":\"data_name\",\"message\":null}\n",
      "\n",
      "{\"dataSet\":\"data_name\",\"message\":null}\n",
      "\n",
      "{\"dataSet\":\"data_name\",\"message\":null}\n",
      "\n",
      "{\"dataSet\":\"data_name\",\"message\":null}\n",
      "\n",
      "{\"dataSet\":\"data_name\",\"message\":null}\n",
      "\n",
      "{\"dataSet\":\"data_name\",\"message\":null}\n",
      "\n",
      "{\"dataSet\":\"data_name\",\"message\":null}\n",
      "\n",
      "{\"dataSet\":\"data_name\",\"message\":null}\n",
      "\n",
      "{\"dataSet\":\"data_name\",\"message\":null}\n",
      "\n",
      "{\"dataSet\":\"data_name\",\"message\":null}\n",
      "\n",
      "{\"dataSet\":\"data_name\",\"message\":null}\n",
      "\n",
      "{\"dataSet\":\"data_name\",\"message\":null}\n",
      "\n",
      "{\"dataSet\":\"data_name\",\"message\":null}\n",
      "\n",
      "{\"dataSet\":\"data_name\",\"message\":null}\n",
      "\n",
      "{\"dataSet\":\"data_name\",\"message\":null}\n",
      "\n",
      "{\"dataSet\":\"data_name\",\"message\":null}\n",
      "\n",
      "{\"dataSet\":\"data_name\",\"message\":null}\n",
      "\n",
      "{\"dataSet\":\"data_name\",\"message\":null}\n",
      "\n",
      "{\"dataSet\":\"data_name\",\"message\":null}\n",
      "\n",
      "{\"dataSet\":\"data_name\",\"message\":null}\n",
      "\n",
      "{\"dataSet\":\"data_name\",\"message\":null}\n",
      "\n",
      "{\"dataSet\":\"data_name\",\"message\":null}\n",
      "\n",
      "{\"dataSet\":\"data_name\",\"message\":null}\n",
      "\n",
      "{\"dataSet\":\"data_name\",\"message\":null}\n",
      "\n",
      "{\"dataSet\":\"data_name\",\"message\":null}\n",
      "\n",
      "{\"dataSet\":\"data_name\",\"message\":null}\n",
      "\n",
      "{\"dataSet\":\"data_name\",\"message\":null}\n",
      "\n",
      "{\"dataSet\":\"data_name\",\"message\":null}\n",
      "\n",
      "{\"dataSet\":\"data_name\",\"message\":null}\n",
      "\n",
      "{\"dataSet\":\"data_name\",\"message\":null}\n",
      "\n",
      "{\"dataSet\":\"data_name\",\"message\":null}\n",
      "\n",
      "{\"dataSet\":\"data_name\",\"message\":null}\n",
      "\n",
      "{\"dataSet\":\"data_name\",\"message\":null}\n",
      "\n",
      "{\"dataSet\":\"data_name\",\"message\":null}\n",
      "\n",
      "{\"dataSet\":\"data_name\",\"message\":null}\n",
      "\n",
      "{\"dataSet\":\"data_name\",\"message\":null}\n",
      "\n",
      "{\"dataSet\":\"data_name\",\"message\":null}\n",
      "\n",
      "{\"dataSet\":\"data_name\",\"message\":null}\n",
      "\n",
      "{\"dataSet\":\"data_name\",\"message\":null}\n",
      "\n",
      "{\"dataSet\":\"data_name\",\"message\":null}\n",
      "\n",
      "{\"dataSet\":\"data_name\",\"message\":null}\n",
      "\n",
      "{\"dataSet\":\"data_name\",\"message\":null}\n",
      "\n",
      "{\"dataSet\":\"data_name\",\"message\":null}\n",
      "\n",
      "{\"dataSet\":\"data_name\",\"message\":null}\n",
      "\n",
      "{\"dataSet\":\"data_name\",\"message\":null}\n",
      "\n",
      "{\"dataSet\":\"data_name\",\"message\":null}\n",
      "\n",
      "{\"dataSet\":\"data_name\",\"message\":null}\n",
      "\n",
      "{\"dataSet\":\"data_name\",\"message\":null}\n",
      "\n",
      "{\"dataSet\":\"data_name\",\"message\":null}\n",
      "\n",
      "{\"dataSet\":\"data_name\",\"message\":null}\n",
      "\n",
      "{\"dataSet\":\"data_name\",\"message\":null}\n",
      "\n",
      "{\"dataSet\":\"data_name\",\"message\":null}\n",
      "\n",
      "{\"dataSet\":\"data_name\",\"message\":null}\n",
      "\n",
      "{\"dataSet\":\"data_name\",\"message\":null}\n",
      "\n",
      "{\"dataSet\":\"data_name\",\"message\":null}\n",
      "\n",
      "{\"dataSet\":\"data_name\",\"message\":null}\n",
      "\n",
      "{\"dataSet\":\"data_name\",\"message\":null}\n",
      "\n",
      "{\"dataSet\":\"data_name\",\"message\":null}\n",
      "\n",
      "{\"dataSet\":\"data_name\",\"message\":null}\n",
      "\n",
      "{\"dataSet\":\"data_name\",\"message\":null}\n",
      "\n",
      "{\"dataSet\":\"data_name\",\"message\":null}\n",
      "\n",
      "{\"dataSet\":\"data_name\",\"message\":null}\n",
      "\n",
      "{\"dataSet\":\"data_name\",\"message\":null}\n",
      "\n"
     ]
    }
   ],
   "source": [
    "# Open dataset\n",
    "dataset_path = \"datasets/financefake.json\"\n",
    "data_name = \"finance_sentiment\"\n",
    "dataset = []\n",
    "with open(dataset_path) as f:\n",
    "    for line in f:\n",
    "        dataset.append(line)\n",
    "\n",
    "# Clean the dataset \n",
    "def clean_line(line):\n",
    "    return line.replace('\\'', '')\n",
    "\n",
    "for i in range(len(dataset)):\n",
    "    dataset[i] = clean_line(dataset[i])\n",
    "\n",
    "# Send the dataset, line by line, to the server\n",
    "for i in range(0, len(dataset)):\n",
    "    data = {\"data_name\": data_name, \"data_content\": dataset[i]}\n",
    "    route = \"trainingData\"\n",
    "    response = requests.post(host + route, data)\n",
    "    print(response.text)"
   ]
  },
  {
   "cell_type": "markdown",
   "metadata": {},
   "source": [
    "## Finetuning the Model\n",
    "\n",
    "Now that there is a dataset in the server and there is a chatbot created, we can start finetuning the model.\n",
    "\n",
    "This process can take a while. (30+ minutes!)"
   ]
  },
  {
   "cell_type": "code",
   "execution_count": 21,
   "metadata": {},
   "outputs": [
    {
     "name": "stdout",
     "output_type": "stream",
     "text": [
      "{\"LLM\":{\"lr\":\"2e-4\",\"name\":\"sentiment_bot\",\"status\":\"Trained\"},\"message\":\"LLM training has begun\"}\n",
      "\n"
     ]
    }
   ],
   "source": [
    "data = {\"name\": bot_name, \"data_name\": data_name}\n",
    "route = \"trainChatBot\"\n",
    "\n",
    "response = requests.post(host + route, data)\n",
    "print(response.text)"
   ]
  },
  {
   "cell_type": "markdown",
   "metadata": {},
   "source": [
    "Inferencing w model"
   ]
  },
  {
   "cell_type": "code",
   "execution_count": 22,
   "metadata": {},
   "outputs": [
    {
     "name": "stdout",
     "output_type": "stream",
     "text": [
      "<!doctype html>\n",
      "<html lang=en>\n",
      "<title>500 Internal Server Error</title>\n",
      "<h1>Internal Server Error</h1>\n",
      "<p>The server encountered an internal error and was unable to complete your request. Either the server is overloaded or there is an error in the application.</p>\n",
      "\n"
     ]
    }
   ],
   "source": [
    "prompt = \"What is SweepAI\"\n",
    "data = {\"name\": bot_name, \"message\": prompt}\n",
    "route = \"messageChatBot\"\n",
    "\n",
    "response = requests.post(host + route, data)\n",
    "print(response.text)"
   ]
  }
 ],
 "metadata": {
  "kernelspec": {
   "display_name": ".venv",
   "language": "python",
   "name": "python3"
  },
  "language_info": {
   "codemirror_mode": {
    "name": "ipython",
    "version": 3
   },
   "file_extension": ".py",
   "mimetype": "text/x-python",
   "name": "python",
   "nbconvert_exporter": "python",
   "pygments_lexer": "ipython3",
   "version": "3.11.0"
  }
 },
 "nbformat": 4,
 "nbformat_minor": 2
}
