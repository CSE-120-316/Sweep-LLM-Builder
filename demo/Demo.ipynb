{
 "cells": [
  {
   "cell_type": "markdown",
   "metadata": {},
   "source": [
    "# Chat Cats ChatBot Fine Tuner Demo\n",
    "\n",
    "## Introduction\n",
    "\n",
    "Our finetuner is a server-hosted application that allows you to fine-tune a pre-trained version of Llama2. To create and finetune these LLMs (Large Languages Models) using our applicaiton, send http requests to http://vm.sweep-ai.com:6360/"
   ]
  },
  {
   "cell_type": "code",
   "execution_count": null,
   "metadata": {},
   "outputs": [],
   "source": [
    "import requests\n",
    "host = \"http://vm.sweep-ai.com:6360/\""
   ]
  },
  {
   "cell_type": "markdown",
   "metadata": {},
   "source": [
    "## Creating a Chatbot\n",
    "\n",
    "To begin, we send a post request to the server specifying the model we want to create.\n",
    "\n",
    "Let's create a chatbot that outputs the sentiments of tweets. We'll call it \"sentiment_bot\" and we'll give it a learning rate of \"2e-4\""
   ]
  },
  {
   "cell_type": "code",
   "execution_count": null,
   "metadata": {},
   "outputs": [],
   "source": [
    "bot_name = \"sentiment_bot\"\n",
    "data = {\"name\": bot_name, \"model\": \"2e-4\"}\n",
    "route = \"createChatBot\"\n",
    "response = requests.post(host + route, data)\n",
    "print(response.text)"
   ]
  },
  {
   "cell_type": "markdown",
   "metadata": {},
   "source": [
    "### Check Status of the bot"
   ]
  },
  {
   "cell_type": "code",
   "execution_count": null,
   "metadata": {},
   "outputs": [],
   "source": [
    "data = {\"name\": bot_name}\n",
    "route = \"checkStatus\"\n",
    "response = requests.post(host + route, data)\n",
    "print(response.text)"
   ]
  },
  {
   "cell_type": "markdown",
   "metadata": {},
   "source": [
    "## Sending in the Dataset\n",
    "\n",
    "Next, we send in the dataset we want to use to train the model. We'll use the \"financefake.json\" dataset.\n",
    "\n",
    "It needs to be submitted line by line."
   ]
  },
  {
   "cell_type": "code",
   "execution_count": null,
   "metadata": {},
   "outputs": [],
   "source": [
    "# Open dataset\n",
    "dataset_path = \"datasets/financefake.json\"\n",
    "dataset = []\n",
    "with open(dataset_path) as f:\n",
    "    for line in f:\n",
    "        dataset.append(line)\n",
    "\n",
    "# Clean the dataset \n",
    "def clean_line(line):\n",
    "    return line.replace('\\'', '')\n",
    "\n",
    "for i in range(len(dataset)):\n",
    "    dataset[i] = clean_line(dataset[i])\n",
    "\n",
    "# Send the dataset, line by line, to the server\n",
    "for i in range(0, len(dataset)):\n",
    "    data = {\"name\": bot_name, \"data_content\": dataset[i]}\n",
    "    route = \"trainingData\"\n",
    "    response = requests.post(host + route, data)\n",
    "    print(response.text)"
   ]
  },
  {
   "cell_type": "markdown",
   "metadata": {},
   "source": [
    "## Finetuning the Model\n",
    "\n",
    "Now that there is a dataset in the server and there is a chatbot created, we can start finetuning the model.\n",
    "\n",
    "This process can take a while. (30+ minutes!)"
   ]
  },
  {
   "cell_type": "code",
   "execution_count": null,
   "metadata": {},
   "outputs": [],
   "source": [
    "data = {\"name\": bot_name}\n",
    "route = \"trainChatBot\"\n",
    "\n",
    "response = requests.post(host + route, data)\n",
    "print(response.text)"
   ]
  }
 ],
 "metadata": {
  "kernelspec": {
   "display_name": ".venv",
   "language": "python",
   "name": "python3"
  },
  "language_info": {
   "name": "python",
   "version": "3.12.3"
  }
 },
 "nbformat": 4,
 "nbformat_minor": 2
}
