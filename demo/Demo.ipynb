{
 "cells": [
  {
   "cell_type": "markdown",
   "metadata": {},
   "source": [
    "# Chat Cats ChatBot Fine Tuner Demo\n",
    "\n",
    "## Introduction\n",
    "\n",
    "Our finetuner is a server-hosted application that allows you to fine-tune a pre-trained version of Llama2. To create and finetune these LLMs (Large Languages Models) using our applicaiton, send http requests to http://vm.sweep-ai.com:6360/"
   ]
  },
  {
   "cell_type": "code",
   "execution_count": 7,
   "metadata": {},
   "outputs": [],
   "source": [
    "import requests\n",
    "host = \"http://vm.sweep-ai.com:6360/\""
   ]
  },
  {
   "cell_type": "code",
   "execution_count": 8,
   "metadata": {},
   "outputs": [
    {
     "name": "stdout",
     "output_type": "stream",
     "text": [
      "{\"message\":\"All LLMs and datasets have been deleted.\"}\n",
      "\n"
     ]
    }
   ],
   "source": [
    "# route = \"deleteEverything\"\n",
    "# response = requests.post(host + route)\n",
    "# print(response.text)"
   ]
  },
  {
   "cell_type": "markdown",
   "metadata": {},
   "source": [
    "## Creating a Chatbot\n",
    "\n",
    "To begin, we send a post request to the server specifying the model we want to create.\n",
    "\n",
    "Let's create a chatbot that outputs the sentiments of tweets. We'll call it \"sentiment_bot\" and we'll give it a learning rate of \"2e-4\""
   ]
  },
  {
   "cell_type": "code",
   "execution_count": 9,
   "metadata": {},
   "outputs": [
    {
     "name": "stdout",
     "output_type": "stream",
     "text": [
      "{\"ChatBot\":{\"lr\":\"2e-4\",\"name\":\"Chatty_the_Pirate\",\"status\":\"Untrained\"},\"message\":{\"lr\":\"2e-4\",\"name\":\"Chatty_the_Pirate\",\"status\":\"Untrained\"}}\n",
      "\n"
     ]
    }
   ],
   "source": [
    "bot_name = \"Chatty_the_Pirate\"\n",
    "data = {\"name\": bot_name, \"lr\": \"2e-4\"}\n",
    "route = \"createChatBot\"\n",
    "response = requests.post(host + route, data)\n",
    "print(response.text)"
   ]
  },
  {
   "cell_type": "markdown",
   "metadata": {},
   "source": [
    "### Check Status of the bot"
   ]
  },
  {
   "cell_type": "code",
   "execution_count": 10,
   "metadata": {},
   "outputs": [
    {
     "name": "stdout",
     "output_type": "stream",
     "text": [
      "{\"lr\":\"2e-4\",\"name\":\"Chatty_the_Pirate\",\"status\":\"Untrained\"}\n",
      "\n"
     ]
    }
   ],
   "source": [
    "data = {\"name\": bot_name}\n",
    "route = \"checkStatus\"\n",
    "response = requests.get(host + route, data)\n",
    "print(response.text)"
   ]
  },
  {
   "cell_type": "markdown",
   "metadata": {},
   "source": [
    "## Sending in the Dataset\n",
    "\n",
    "Next, we send in the dataset we want to use to train the model. We'll use the \"financefake.json\" dataset.\n",
    "\n",
    "It needs to be submitted line by line."
   ]
  },
  {
   "cell_type": "code",
   "execution_count": 11,
   "metadata": {},
   "outputs": [
    {
     "name": "stdout",
     "output_type": "stream",
     "text": [
      "{\"dataSet\":\"data_name\",\"message\":\"Dataset saved successfully\"}\n",
      "\n"
     ]
    }
   ],
   "source": [
    "# Open dataset\n",
    "dataset_path = \"datasets/pirate.json\"\n",
    "data_name = \"PirateDataSet\"\n",
    "route = \"trainingDataUpload\"\n",
    "\n",
    "with open(dataset_path, 'rb') as file:\n",
    "    files = {'dataset': (dataset_path, file, 'application/json')}\n",
    "    data = {'data_name': data_name}\n",
    "\n",
    "    response = requests.post(host + route, files=files, data=data)\n",
    "    print(response.text)"
   ]
  },
  {
   "cell_type": "markdown",
   "metadata": {},
   "source": [
    "## Finetuning the Model\n",
    "\n",
    "Now that there is a dataset in the server and there is a chatbot created, we can start finetuning the model.\n",
    "\n",
    "This process can take a while. (30+ minutes!)"
   ]
  },
  {
   "cell_type": "code",
   "execution_count": 12,
   "metadata": {},
   "outputs": [
    {
     "name": "stdout",
     "output_type": "stream",
     "text": [
      "{\"ChatBot\":{\"lr\":\"2e-4\",\"name\":\"Chatty_the_Pirate\",\"status\":\"Trained\"},\"message\":{\"lr\":\"2e-4\",\"name\":\"Chatty_the_Pirate\",\"status\":\"Trained\"}}\n",
      "\n"
     ]
    }
   ],
   "source": [
    "data = {\"name\": bot_name, \"data_name\": data_name}\n",
    "route = \"trainChatBot\"\n",
    "\n",
    "response = requests.post(host + route, data)\n",
    "print(response.text)"
   ]
  },
  {
   "cell_type": "markdown",
   "metadata": {},
   "source": [
    "Inferencing w model"
   ]
  },
  {
   "cell_type": "code",
   "execution_count": 13,
   "metadata": {},
   "outputs": [
    {
     "name": "stdout",
     "output_type": "stream",
     "text": [
      "{\"ChatBot\":{\"lr\":\"2e-4\",\"name\":\"Chatty_the_Pirate\",\"status\":\"Trained\"},\"message\":\"Greetings, mortal! I am the great and powerful wizard, Merlin the Magnificent! *adjusts glasses* As for my name, it is Merlin, the most renowned wizard of all time! *winks* And as for my profession, I dabble in the dark arts of magic, manipulating the very fabric of reality itself! *c\"}\n",
      "\n"
     ]
    }
   ],
   "source": [
    "prompt = \"What is your name and your profession?\"\n",
    "data = {\"name\": bot_name, \"message\": prompt}\n",
    "route = \"messageChatBot\"\n",
    "\n",
    "response = requests.post(host + route, data)\n",
    "print(response.text)"
   ]
  }
 ],
 "metadata": {
  "kernelspec": {
   "display_name": ".venv",
   "language": "python",
   "name": "python3"
  },
  "language_info": {
   "codemirror_mode": {
    "name": "ipython",
    "version": 3
   },
   "file_extension": ".py",
   "mimetype": "text/x-python",
   "name": "python",
   "nbconvert_exporter": "python",
   "pygments_lexer": "ipython3",
   "version": "3.11.0"
  }
 },
 "nbformat": 4,
 "nbformat_minor": 2
}
