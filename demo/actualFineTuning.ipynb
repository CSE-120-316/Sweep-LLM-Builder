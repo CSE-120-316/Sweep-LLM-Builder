{
 "cells": [
  {
   "cell_type": "code",
   "execution_count": 20,
   "metadata": {},
   "outputs": [
    {
     "name": "stdout",
     "output_type": "stream",
     "text": [
      "{\"text\": \"### Instruction: What is the sentiment of this tweet? Please choose an answer from {negative/neutral/positive} ### Human: According to Gran , the company has no plans to move all production to Russia , although that is where the company is growing . ### Assistant: neutral.\"}\n",
      "\n"
     ]
    }
   ],
   "source": [
    "import requests\n",
    "import json\n",
    "import time\n",
    "# host = 'localhost:6360'\n",
    "host = \"vm.sweep-ai.com:6360\"\n",
    "\n",
    "dataset = []\n",
    "\n",
    "# Load data from datasets/financefake.json\n",
    "with open('datasets/financefake.json') as f:\n",
    "    for line in f:\n",
    "        str(dataset.append(line))\n",
    "\n",
    "print(dataset[0])  # Print the first tweet and its sentiment"
   ]
  },
  {
   "cell_type": "code",
   "execution_count": 21,
   "metadata": {},
   "outputs": [
    {
     "name": "stdout",
     "output_type": "stream",
     "text": [
      "True\n"
     ]
    }
   ],
   "source": [
    "response = requests.get('http://' + host + '/ping')\n",
    "\n",
    "print(response.text)"
   ]
  },
  {
   "cell_type": "code",
   "execution_count": 22,
   "metadata": {},
   "outputs": [],
   "source": [
    "def clean_line(line):\n",
    "    return line.replace('\\'', '')\n",
    "\n",
    "for i in range(len(dataset)):\n",
    "    dataset[i] = clean_line(dataset[i])"
   ]
  },
  {
   "cell_type": "code",
   "execution_count": 23,
   "metadata": {},
   "outputs": [
    {
     "name": "stdout",
     "output_type": "stream",
     "text": [
      "{\"dataSet\":\"data_name\",\"message\":null}\n",
      "\n",
      "{\"dataSet\":\"data_name\",\"message\":null}\n",
      "\n",
      "{\"dataSet\":\"data_name\",\"message\":null}\n",
      "\n",
      "{\"dataSet\":\"data_name\",\"message\":null}\n",
      "\n",
      "{\"dataSet\":\"data_name\",\"message\":null}\n",
      "\n",
      "{\"dataSet\":\"data_name\",\"message\":null}\n",
      "\n",
      "{\"dataSet\":\"data_name\",\"message\":null}\n",
      "\n",
      "{\"dataSet\":\"data_name\",\"message\":null}\n",
      "\n",
      "{\"dataSet\":\"data_name\",\"message\":null}\n",
      "\n",
      "{\"dataSet\":\"data_name\",\"message\":null}\n",
      "\n",
      "{\"dataSet\":\"data_name\",\"message\":null}\n",
      "\n",
      "{\"dataSet\":\"data_name\",\"message\":null}\n",
      "\n",
      "{\"dataSet\":\"data_name\",\"message\":null}\n",
      "\n"
     ]
    },
    {
     "name": "stdout",
     "output_type": "stream",
     "text": [
      "{\"dataSet\":\"data_name\",\"message\":null}\n",
      "\n",
      "{\"dataSet\":\"data_name\",\"message\":null}\n",
      "\n",
      "{\"dataSet\":\"data_name\",\"message\":null}\n",
      "\n",
      "{\"dataSet\":\"data_name\",\"message\":null}\n",
      "\n",
      "{\"dataSet\":\"data_name\",\"message\":null}\n",
      "\n",
      "{\"dataSet\":\"data_name\",\"message\":null}\n",
      "\n",
      "{\"dataSet\":\"data_name\",\"message\":null}\n",
      "\n",
      "{\"dataSet\":\"data_name\",\"message\":null}\n",
      "\n",
      "{\"dataSet\":\"data_name\",\"message\":null}\n",
      "\n",
      "{\"dataSet\":\"data_name\",\"message\":null}\n",
      "\n",
      "{\"dataSet\":\"data_name\",\"message\":null}\n",
      "\n",
      "{\"dataSet\":\"data_name\",\"message\":null}\n",
      "\n",
      "{\"dataSet\":\"data_name\",\"message\":null}\n",
      "\n",
      "{\"dataSet\":\"data_name\",\"message\":null}\n",
      "\n",
      "{\"dataSet\":\"data_name\",\"message\":null}\n",
      "\n",
      "{\"dataSet\":\"data_name\",\"message\":null}\n",
      "\n",
      "{\"dataSet\":\"data_name\",\"message\":null}\n",
      "\n",
      "{\"dataSet\":\"data_name\",\"message\":null}\n",
      "\n",
      "{\"dataSet\":\"data_name\",\"message\":null}\n",
      "\n",
      "{\"dataSet\":\"data_name\",\"message\":null}\n",
      "\n",
      "{\"dataSet\":\"data_name\",\"message\":null}\n",
      "\n",
      "{\"dataSet\":\"data_name\",\"message\":null}\n",
      "\n",
      "{\"dataSet\":\"data_name\",\"message\":null}\n",
      "\n",
      "{\"dataSet\":\"data_name\",\"message\":null}\n",
      "\n",
      "{\"dataSet\":\"data_name\",\"message\":null}\n",
      "\n",
      "{\"dataSet\":\"data_name\",\"message\":null}\n",
      "\n",
      "{\"dataSet\":\"data_name\",\"message\":null}\n",
      "\n",
      "{\"dataSet\":\"data_name\",\"message\":null}\n",
      "\n",
      "{\"dataSet\":\"data_name\",\"message\":null}\n",
      "\n",
      "{\"dataSet\":\"data_name\",\"message\":null}\n",
      "\n",
      "{\"dataSet\":\"data_name\",\"message\":null}\n",
      "\n",
      "{\"dataSet\":\"data_name\",\"message\":null}\n",
      "\n",
      "{\"dataSet\":\"data_name\",\"message\":null}\n",
      "\n",
      "{\"dataSet\":\"data_name\",\"message\":null}\n",
      "\n",
      "{\"dataSet\":\"data_name\",\"message\":null}\n",
      "\n",
      "{\"dataSet\":\"data_name\",\"message\":null}\n",
      "\n",
      "{\"dataSet\":\"data_name\",\"message\":null}\n",
      "\n"
     ]
    }
   ],
   "source": [
    "# Send data to the server\n",
    "for i in range(0, len(dataset)):\n",
    "    data = {\n",
    "        'data_name': \"financeFakeDataDummy\",\n",
    "        'data_content': dataset[i]\n",
    "    }\n",
    "    # Wait a bit\n",
    "    # time.sleep(0.1)\n",
    "\n",
    "    response = requests.post(\"http://\" + host + '/trainingData', data=data)\n",
    "    print(response.text)\n"
   ]
  },
  {
   "cell_type": "code",
   "execution_count": 24,
   "metadata": {},
   "outputs": [
    {
     "name": "stdout",
     "output_type": "stream",
     "text": [
      "{\"ChatBot\":{\"model\":\"2e-4\",\"name\":\"financebuddy\",\"status\":\"Untrained\"},\"message\":\"creation success\"}\n",
      "\n"
     ]
    }
   ],
   "source": [
    "# Create a chatbot\n",
    "data={'name': 'financebuddy', 'model': '2e-4'}\n",
    "response = requests.post(\"http://\" + host + '/createChatBot', data)\n",
    "\n",
    "print(response.text)"
   ]
  },
  {
   "cell_type": "code",
   "execution_count": 25,
   "metadata": {},
   "outputs": [
    {
     "name": "stdout",
     "output_type": "stream",
     "text": [
      "{\"LLM\":{\"model\":\"2e-4\",\"name\":\"financebuddy\",\"status\":\"Trained\"},\"message\":\"LLM training has begun\"}\n",
      "\n"
     ]
    }
   ],
   "source": [
    "data = {'name': 'financebuddy', 'data_name': 'financeFakeDataDummy'}\n",
    "response = requests.post(\"http://\" + host + '/trainChatBot', data)\n",
    "\n",
    "print(response.text)"
   ]
  }
 ],
 "metadata": {
  "kernelspec": {
   "display_name": ".venv",
   "language": "python",
   "name": "python3"
  },
  "language_info": {
   "codemirror_mode": {
    "name": "ipython",
    "version": 3
   },
   "file_extension": ".py",
   "mimetype": "text/x-python",
   "name": "python",
   "nbconvert_exporter": "python",
   "pygments_lexer": "ipython3",
   "version": "3.10.13"
  }
 },
 "nbformat": 4,
 "nbformat_minor": 2
}
