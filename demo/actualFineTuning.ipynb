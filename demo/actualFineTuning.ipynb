{
 "cells": [
  {
   "cell_type": "code",
   "execution_count": 98,
   "metadata": {},
   "outputs": [
    {
     "name": "stdout",
     "output_type": "stream",
     "text": [
      "{\"text\": \"### Instruction: What is the sentiment of this tweet? Please choose an answer from {negative/neutral/positive} ### Human: According to Gran , the company has no plans to move all production to Russia , although that is where the company is growing . ### Assistant: neutral.\"}\n",
      "\n"
     ]
    }
   ],
   "source": [
    "import requests\n",
    "import json\n",
    "import time\n",
    "host = 'http://localhost:6360'\n",
    "\n",
    "dataset = []\n",
    "\n",
    "# Load data from datasets/financefake.json\n",
    "with open('datasets/financefake.json') as f:\n",
    "    for line in f:\n",
    "        str(dataset.append(line))\n",
    "\n",
    "print(dataset[0])  # Print the first tweet and its sentiment"
   ]
  },
  {
   "cell_type": "code",
   "execution_count": 99,
   "metadata": {},
   "outputs": [
    {
     "name": "stdout",
     "output_type": "stream",
     "text": [
      "{\"text\": \"### Instruction: What is the sentiment of this tweet? Please choose an answer from {negative/neutral/positive} ### Human: According to Gran , the company has no plans to move all production to Russia , although that is where the company is growing . ### Assistant: neutral.\"}\n",
      "\n",
      "{\"text\": \"### Instruction: What is the sentiment of this tweet? Please choose an answer from {negative/neutral/positive} ### Human: Technopolis plans to develop in stages an area of no less than 100,000 square meters in order to host companies working in computer technologies and telecommunications , the statement said . ### Assistant: neutral.\"}\n",
      "\n"
     ]
    }
   ],
   "source": [
    "print(dataset[0])\n",
    "print(dataset[1])"
   ]
  },
  {
   "cell_type": "code",
   "execution_count": 100,
   "metadata": {},
   "outputs": [],
   "source": [
    "def clean_line(line):\n",
    "    return line.replace('\\'', '')\n",
    "\n",
    "for i in range(len(dataset)):\n",
    "    dataset[i] = clean_line(dataset[i])"
   ]
  },
  {
   "cell_type": "code",
   "execution_count": 103,
   "metadata": {},
   "outputs": [
    {
     "name": "stdout",
     "output_type": "stream",
     "text": [
      "{\"dataSet\":\"data_name\",\"message\":\"Dataset saved successfully\"}\n",
      "\n",
      "{\"dataSet\":\"data_name\",\"message\":\"Dataset saved successfully\"}\n",
      "\n",
      "{\"dataSet\":\"data_name\",\"message\":\"Dataset saved successfully\"}\n",
      "\n",
      "{\"dataSet\":\"data_name\",\"message\":\"Dataset saved successfully\"}\n",
      "\n",
      "{\"dataSet\":\"data_name\",\"message\":\"Dataset saved successfully\"}\n",
      "\n",
      "{\"dataSet\":\"data_name\",\"message\":\"Dataset saved successfully\"}\n",
      "\n",
      "{\"dataSet\":\"data_name\",\"message\":\"Dataset saved successfully\"}\n",
      "\n",
      "{\"dataSet\":\"data_name\",\"message\":\"Dataset saved successfully\"}\n",
      "\n",
      "{\"dataSet\":\"data_name\",\"message\":\"Dataset saved successfully\"}\n",
      "\n",
      "{\"dataSet\":\"data_name\",\"message\":\"Dataset saved successfully\"}\n",
      "\n",
      "{\"dataSet\":\"data_name\",\"message\":\"Dataset saved successfully\"}\n",
      "\n",
      "{\"dataSet\":\"data_name\",\"message\":\"Dataset saved successfully\"}\n",
      "\n",
      "{\"dataSet\":\"data_name\",\"message\":\"Dataset saved successfully\"}\n",
      "\n",
      "{\"dataSet\":\"data_name\",\"message\":\"Dataset saved successfully\"}\n",
      "\n",
      "{\"dataSet\":\"data_name\",\"message\":\"Dataset saved successfully\"}\n",
      "\n",
      "{\"dataSet\":\"data_name\",\"message\":\"Dataset saved successfully\"}\n",
      "\n",
      "{\"dataSet\":\"data_name\",\"message\":\"Dataset saved successfully\"}\n",
      "\n",
      "{\"dataSet\":\"data_name\",\"message\":\"Dataset saved successfully\"}\n",
      "\n",
      "{\"dataSet\":\"data_name\",\"message\":\"Dataset saved successfully\"}\n",
      "\n",
      "{\"dataSet\":\"data_name\",\"message\":\"Dataset saved successfully\"}\n",
      "\n",
      "{\"dataSet\":\"data_name\",\"message\":\"Dataset saved successfully\"}\n",
      "\n",
      "{\"dataSet\":\"data_name\",\"message\":\"Dataset saved successfully\"}\n",
      "\n",
      "{\"dataSet\":\"data_name\",\"message\":\"Dataset saved successfully\"}\n",
      "\n",
      "{\"dataSet\":\"data_name\",\"message\":\"Dataset saved successfully\"}\n",
      "\n",
      "{\"dataSet\":\"data_name\",\"message\":\"Dataset saved successfully\"}\n",
      "\n",
      "{\"dataSet\":\"data_name\",\"message\":\"Dataset saved successfully\"}\n",
      "\n",
      "{\"dataSet\":\"data_name\",\"message\":\"Dataset saved successfully\"}\n",
      "\n",
      "{\"dataSet\":\"data_name\",\"message\":\"Dataset saved successfully\"}\n",
      "\n",
      "{\"dataSet\":\"data_name\",\"message\":\"Dataset saved successfully\"}\n",
      "\n",
      "{\"dataSet\":\"data_name\",\"message\":\"Dataset saved successfully\"}\n",
      "\n",
      "{\"dataSet\":\"data_name\",\"message\":\"Dataset saved successfully\"}\n",
      "\n",
      "{\"dataSet\":\"data_name\",\"message\":\"Dataset saved successfully\"}\n",
      "\n",
      "{\"dataSet\":\"data_name\",\"message\":\"Dataset saved successfully\"}\n",
      "\n",
      "{\"dataSet\":\"data_name\",\"message\":\"Dataset saved successfully\"}\n",
      "\n",
      "{\"dataSet\":\"data_name\",\"message\":\"Dataset saved successfully\"}\n",
      "\n",
      "{\"dataSet\":\"data_name\",\"message\":\"Dataset saved successfully\"}\n",
      "\n",
      "{\"dataSet\":\"data_name\",\"message\":\"Dataset saved successfully\"}\n",
      "\n",
      "{\"dataSet\":\"data_name\",\"message\":\"Dataset saved successfully\"}\n",
      "\n",
      "{\"dataSet\":\"data_name\",\"message\":\"Dataset saved successfully\"}\n",
      "\n",
      "{\"dataSet\":\"data_name\",\"message\":\"Dataset saved successfully\"}\n",
      "\n",
      "{\"dataSet\":\"data_name\",\"message\":\"Dataset saved successfully\"}\n",
      "\n",
      "{\"dataSet\":\"data_name\",\"message\":\"Dataset saved successfully\"}\n",
      "\n",
      "{\"dataSet\":\"data_name\",\"message\":\"Dataset saved successfully\"}\n",
      "\n",
      "{\"dataSet\":\"data_name\",\"message\":\"Dataset saved successfully\"}\n",
      "\n",
      "{\"dataSet\":\"data_name\",\"message\":\"Dataset saved successfully\"}\n",
      "\n",
      "{\"dataSet\":\"data_name\",\"message\":\"Dataset saved successfully\"}\n",
      "\n",
      "{\"dataSet\":\"data_name\",\"message\":\"Dataset saved successfully\"}\n",
      "\n",
      "{\"dataSet\":\"data_name\",\"message\":\"Dataset saved successfully\"}\n",
      "\n",
      "{\"dataSet\":\"data_name\",\"message\":\"Dataset saved successfully\"}\n",
      "\n",
      "{\"dataSet\":\"data_name\",\"message\":\"Dataset saved successfully\"}\n",
      "\n"
     ]
    }
   ],
   "source": [
    "# Send data to the server\n",
    "for i in range(0, len(dataset)):\n",
    "    data = {\n",
    "        'data_name': \"financefake\",\n",
    "        'data_content': dataset[i]\n",
    "    }\n",
    "    # Wait a bit\n",
    "    # time.sleep(0.1)\n",
    "\n",
    "    response = requests.post(host + '/trainingData', data=data)\n",
    "    print(response.text)\n"
   ]
  },
  {
   "cell_type": "code",
   "execution_count": null,
   "metadata": {},
   "outputs": [],
   "source": []
  }
 ],
 "metadata": {
  "kernelspec": {
   "display_name": ".venv",
   "language": "python",
   "name": "python3"
  },
  "language_info": {
   "codemirror_mode": {
    "name": "ipython",
    "version": 3
   },
   "file_extension": ".py",
   "mimetype": "text/x-python",
   "name": "python",
   "nbconvert_exporter": "python",
   "pygments_lexer": "ipython3",
   "version": "3.10.13"
  }
 },
 "nbformat": 4,
 "nbformat_minor": 2
}
