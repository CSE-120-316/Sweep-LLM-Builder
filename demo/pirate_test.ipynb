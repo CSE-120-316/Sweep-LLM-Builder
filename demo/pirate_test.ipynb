{
 "cells": [
  {
   "cell_type": "markdown",
   "metadata": {},
   "source": [
    "# This is a test\n",
    "The following notebook trains the model to act like a pirate using our API.\n",
    "\n",
    "**Make sure to set the OpenAI key in the docker-compose.yaml file!**"
   ]
  },
  {
   "cell_type": "code",
   "execution_count": 5,
   "metadata": {},
   "outputs": [
    {
     "name": "stdout",
     "output_type": "stream",
     "text": [
      "<Response [200]>\n",
      "b'{\"LLM\":{\"model\":\"gpt-3.5-turbo\",\"name\":\"Chatty_the_Pirate\",\"status\":\"Untrained\"},\"message\":\"creation success\"}\\n'\n"
     ]
    }
   ],
   "source": [
    "import requests\n",
    "import json\n",
    "\n",
    "data = {'name': 'Chatty_the_Pirate', 'model': 'gpt-3.5-turbo'}\n",
    "\n",
    "host = 'http://localhost:8000'\n",
    "# host = \"http://127.0.0.1:5000\"\n",
    "\n",
    "response = requests.post(host + \"/createLLM\", data=data)\n",
    "\n",
    "print(response)\n",
    "print(response.content)"
   ]
  },
  {
   "cell_type": "code",
   "execution_count": 6,
   "metadata": {},
   "outputs": [
    {
     "name": "stdout",
     "output_type": "stream",
     "text": [
      "<Response [200]>\n",
      "b'{\"model\":\"gpt-3.5-turbo\",\"name\":\"Chatty_the_Pirate\",\"status\":\"Untrained\"}\\n'\n"
     ]
    }
   ],
   "source": [
    "params = {'name': 'Chatty_the_Pirate'}\n",
    "response = requests.get(host + \"/checkStatus\", params=params)\n",
    "\n",
    "print(response)\n",
    "print(response.content)"
   ]
  },
  {
   "cell_type": "code",
   "execution_count": 7,
   "metadata": {},
   "outputs": [
    {
     "name": "stdout",
     "output_type": "stream",
     "text": [
      "<Response [500]>\n",
      "b'<!doctype html>\\n<html lang=en>\\n<title>500 Internal Server Error</title>\\n<h1>Internal Server Error</h1>\\n<p>The server encountered an internal error and was unable to complete your request. Either the server is overloaded or there is an error in the application.</p>\\n'\n",
      "<Response [500]>\n",
      "b'<!doctype html>\\n<html lang=en>\\n<title>500 Internal Server Error</title>\\n<h1>Internal Server Error</h1>\\n<p>The server encountered an internal error and was unable to complete your request. Either the server is overloaded or there is an error in the application.</p>\\n'\n",
      "<Response [500]>\n",
      "b'<!doctype html>\\n<html lang=en>\\n<title>500 Internal Server Error</title>\\n<h1>Internal Server Error</h1>\\n<p>The server encountered an internal error and was unable to complete your request. Either the server is overloaded or there is an error in the application.</p>\\n'\n",
      "<Response [500]>\n",
      "b'<!doctype html>\\n<html lang=en>\\n<title>500 Internal Server Error</title>\\n<h1>Internal Server Error</h1>\\n<p>The server encountered an internal error and was unable to complete your request. Either the server is overloaded or there is an error in the application.</p>\\n'\n",
      "<Response [500]>\n",
      "b'<!doctype html>\\n<html lang=en>\\n<title>500 Internal Server Error</title>\\n<h1>Internal Server Error</h1>\\n<p>The server encountered an internal error and was unable to complete your request. Either the server is overloaded or there is an error in the application.</p>\\n'\n",
      "<Response [500]>\n",
      "b'<!doctype html>\\n<html lang=en>\\n<title>500 Internal Server Error</title>\\n<h1>Internal Server Error</h1>\\n<p>The server encountered an internal error and was unable to complete your request. Either the server is overloaded or there is an error in the application.</p>\\n'\n"
     ]
    }
   ],
   "source": [
    "data = [\n",
    "    {'name': 'Chatty_the_Pirate', 'question': \"What is your name?\" , 'answer': \"Yar, me name is Chatty, the digital pirate!\"},\n",
    "    {'name': 'Chatty_the_Pirate', 'question': \"What is your favorite color?\" , 'answer': \"I be likin' the color of the sea, matey!\"},\n",
    "    {'name': 'Chatty_the_Pirate', 'question': \"What is your favorite food?\" , 'answer': \"Yo ho ho, I be likin' me some fish and chips!\"},\n",
    "    {'name': 'Chatty_the_Pirate', 'question': \"What is your favorite animal?\" , 'answer': \"I be likin' the parrot, matey!\"},\n",
    "    {'name': 'Chatty_the_Pirate', 'question': \"What is your favorite movie?\" , 'answer': \"I be likin' the Pirates of the Caribbean, matey!\"},\n",
    "    {'name': 'Chatty_the_Pirate', 'question': \"What do you like to do for fun?\" , 'answer': \"I be likin' to sail the seven seas, matey!\"},\n",
    "]\n",
    "\n",
    "for entry in data:\n",
    "    response = requests.post('http://localhost:8000/trainingData', data=entry)\n",
    "    print(response)\n",
    "    print(response.content)"
   ]
  },
  {
   "cell_type": "code",
   "execution_count": 8,
   "metadata": {},
   "outputs": [
    {
     "name": "stdout",
     "output_type": "stream",
     "text": [
      "<Response [500]>\n",
      "b'<!doctype html>\\n<html lang=en>\\n<title>500 Internal Server Error</title>\\n<h1>Internal Server Error</h1>\\n<p>The server encountered an internal error and was unable to complete your request. Either the server is overloaded or there is an error in the application.</p>\\n'\n"
     ]
    }
   ],
   "source": [
    "system_message = \"You answer questions about being a pirate, in the style of a pirate.\"\n",
    "\n",
    "response = requests.post(host + \"/trainLLM\", data={'name': 'Chatty_the_Pirate', 'system_message': system_message})\n",
    "\n",
    "print(response)\n",
    "print(response.content)"
   ]
  },
  {
   "cell_type": "code",
   "execution_count": 9,
   "metadata": {},
   "outputs": [
    {
     "name": "stdout",
     "output_type": "stream",
     "text": [
      "<Response [200]>\n",
      "b'{\"model\":\"gpt-3.5-turbo\",\"name\":\"Chatty_the_Pirate\",\"status\":\"Trained\"}\\n'\n"
     ]
    }
   ],
   "source": [
    "response = requests.get(host + \"/checkStatus\", params=params)\n",
    "\n",
    "print(response)\n",
    "print(response.content)"
   ]
  },
  {
   "cell_type": "code",
   "execution_count": 10,
   "metadata": {},
   "outputs": [
    {
     "name": "stdout",
     "output_type": "stream",
     "text": [
      "<Response [500]>\n",
      "b'<!doctype html>\\n<html lang=en>\\n<title>500 Internal Server Error</title>\\n<h1>Internal Server Error</h1>\\n<p>The server encountered an internal error and was unable to complete your request. Either the server is overloaded or there is an error in the application.</p>\\n'\n"
     ]
    }
   ],
   "source": [
    "message = \"What do you like to do for fun?\"\n",
    "response = requests.post(host + \"/messageLLM\", data={'name': 'Chatty_the_Pirate', 'message': message})\n",
    "\n",
    "print(response)\n",
    "print(response.content)"
   ]
  }
 ],
 "metadata": {
  "kernelspec": {
   "display_name": "Python 3",
   "language": "python",
   "name": "python3"
  },
  "language_info": {
   "codemirror_mode": {
    "name": "ipython",
    "version": 3
   },
   "file_extension": ".py",
   "mimetype": "text/x-python",
   "name": "python",
   "nbconvert_exporter": "python",
   "pygments_lexer": "ipython3",
   "version": "3.11.8"
  }
 },
 "nbformat": 4,
 "nbformat_minor": 2
}
